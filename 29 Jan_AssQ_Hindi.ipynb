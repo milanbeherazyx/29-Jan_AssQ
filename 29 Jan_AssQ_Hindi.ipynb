{
 "cells": [
  {
   "cell_type": "code",
   "execution_count": 1,
   "id": "dc4d8ba9-7a51-48fc-ae14-6d5eadfb844d",
   "metadata": {},
   "outputs": [
    {
     "data": {
      "text/plain": [
       "'\\n\\n1.Who developed Python Programming Language?\\n\\nPython was developed by Guido van Rossum in the late 1980s.\\n\\n2.Which type of Programming does Python support?\\n\\nPython supports multiple programming paradigms, including object-oriented, imperative, functional, and procedural programming.\\n\\n3.Is Python sensitive when dealing with identifiers?\\n\\nYes, Python is case-sensitive when dealing with identifiers.\\n\\n4.What is the correct extension of the Python file?\\n\\nThe correct extension of a Python file is \".py\".\\n\\n5.Is Python code compiled or interpreted?\\n\\nPython code is interpreted at runtime by the Python interpreter.\\n\\n6.Name a few blocks of code used to define in Python language?\\n\\nSome common blocks of code in Python include functions, classes, loops, and conditional statements.\\n\\n7.State a character used to give single-line comments in Python?\\n\\nThe \"#\" character is used to denote single-line comments in Python.\\n\\n8.Mention functions which can help us to find the version of Python that we are currently working on?\\n\\nThe \"sys\" module in Python provides a \"version\" attribute which can be used to find the current version of Python. Another option is to use the \"platform\" module, which provides a \"python_version()\" function.\\n\\n9.Python supports the creation of anonymous functions at runtime, using a construct called?\\n\\nPython supports the creation of anonymous functions using a construct called \"lambda\".\\n\\n10.What does pip stand for python?\\n\\n\"pip\" stands for \"Pip Installs Packages\". It is a package management system used to install and manage software packages written in Python.\\n\\n11.Mention a few built-in functions in Python?\\n\\nSome common built-in functions in Python include \"print()\", \"len()\", \"type()\", \"range()\", \"input()\", \"str()\", \"int()\", and \"float()\".\\n\\n12.What is the maximum possible length of an identifier in Python?\\n\\nThe maximum length of an identifier in Python is implementation-dependent, but is typically around 255 characters.\\n\\n13.What are the benefits of using Python?\\n\\nSome benefits of using Python include its simplicity and ease of use, wide range of available libraries and modules, strong community support, and cross-platform compatibility.\\n\\n14.How is memory managed in Python?\\n\\nMemory management in Python is handled by the Python interpreter using a technique called automatic memory management. This involves tracking objects in memory and automatically freeing up memory when objects are no longer being used.\\n\\n15.How to install Python on Windows and set path variables?\\n\\nTo install Python on Windows, you can download the Python installer from the official Python website and follow the installation instructions. To set path variables, you can add the path to the Python executable to your system\\'s \"Path\" environment variable.\\n\\n16.Is indentation required in Python?\\n\\nYes, indentation is required in Python as it is used to denote blocks of code.\\n\\n'"
      ]
     },
     "execution_count": 1,
     "metadata": {},
     "output_type": "execute_result"
    }
   ],
   "source": [
    "\"\"\"\n",
    "\n",
    "1.Who developed Python Programming Language?\n",
    "\n",
    "Python was developed by Guido van Rossum in the late 1980s.\n",
    "\n",
    "2.Which type of Programming does Python support?\n",
    "\n",
    "Python supports multiple programming paradigms, including object-oriented, imperative, functional, and procedural programming.\n",
    "\n",
    "3.Is Python sensitive when dealing with identifiers?\n",
    "\n",
    "Yes, Python is case-sensitive when dealing with identifiers.\n",
    "\n",
    "4.What is the correct extension of the Python file?\n",
    "\n",
    "The correct extension of a Python file is \".py\".\n",
    "\n",
    "5.Is Python code compiled or interpreted?\n",
    "\n",
    "Python code is interpreted at runtime by the Python interpreter.\n",
    "\n",
    "6.Name a few blocks of code used to define in Python language?\n",
    "\n",
    "Some common blocks of code in Python include functions, classes, loops, and conditional statements.\n",
    "\n",
    "7.State a character used to give single-line comments in Python?\n",
    "\n",
    "The \"#\" character is used to denote single-line comments in Python.\n",
    "\n",
    "8.Mention functions which can help us to find the version of Python that we are currently working on?\n",
    "\n",
    "The \"sys\" module in Python provides a \"version\" attribute which can be used to find the current version of Python. Another option is to use the \"platform\" module, which provides a \"python_version()\" function.\n",
    "\n",
    "9.Python supports the creation of anonymous functions at runtime, using a construct called?\n",
    "\n",
    "Python supports the creation of anonymous functions using a construct called \"lambda\".\n",
    "\n",
    "10.What does pip stand for python?\n",
    "\n",
    "\"pip\" stands for \"Pip Installs Packages\". It is a package management system used to install and manage software packages written in Python.\n",
    "\n",
    "11.Mention a few built-in functions in Python?\n",
    "\n",
    "Some common built-in functions in Python include \"print()\", \"len()\", \"type()\", \"range()\", \"input()\", \"str()\", \"int()\", and \"float()\".\n",
    "\n",
    "12.What is the maximum possible length of an identifier in Python?\n",
    "\n",
    "The maximum length of an identifier in Python is implementation-dependent, but is typically around 255 characters.\n",
    "\n",
    "13.What are the benefits of using Python?\n",
    "\n",
    "Some benefits of using Python include its simplicity and ease of use, wide range of available libraries and modules, strong community support, and cross-platform compatibility.\n",
    "\n",
    "14.How is memory managed in Python?\n",
    "\n",
    "Memory management in Python is handled by the Python interpreter using a technique called automatic memory management. This involves tracking objects in memory and automatically freeing up memory when objects are no longer being used.\n",
    "\n",
    "15.How to install Python on Windows and set path variables?\n",
    "\n",
    "To install Python on Windows, you can download the Python installer from the official Python website and follow the installation instructions. To set path variables, you can add the path to the Python executable to your system's \"Path\" environment variable.\n",
    "\n",
    "16.Is indentation required in Python?\n",
    "\n",
    "Yes, indentation is required in Python as it is used to denote blocks of code.\n",
    "\n",
    "\"\"\""
   ]
  },
  {
   "cell_type": "code",
   "execution_count": null,
   "id": "26db86fe-e4a5-443a-a54e-75cd7b8217f6",
   "metadata": {},
   "outputs": [],
   "source": []
  }
 ],
 "metadata": {
  "kernelspec": {
   "display_name": "Python 3 (ipykernel)",
   "language": "python",
   "name": "python3"
  },
  "language_info": {
   "codemirror_mode": {
    "name": "ipython",
    "version": 3
   },
   "file_extension": ".py",
   "mimetype": "text/x-python",
   "name": "python",
   "nbconvert_exporter": "python",
   "pygments_lexer": "ipython3",
   "version": "3.10.8"
  }
 },
 "nbformat": 4,
 "nbformat_minor": 5
}
